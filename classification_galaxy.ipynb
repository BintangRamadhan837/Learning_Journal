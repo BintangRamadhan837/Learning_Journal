{
 "cells": [
  {
   "cell_type": "markdown",
   "metadata": {},
   "source": [
    "# Perkenalan"
   ]
  },
  {
   "cell_type": "markdown",
   "metadata": {},
   "source": [
    "Muhammad Bintang Ramadhan  \n",
    "Data Science Batch 08  \n",
    "live code 1 sesi 2"
   ]
  },
  {
   "cell_type": "markdown",
   "metadata": {},
   "source": [
    "# Import Pustaka"
   ]
  },
  {
   "cell_type": "code",
   "execution_count": 2,
   "metadata": {},
   "outputs": [],
   "source": [
    "import warnings\n",
    "warnings.simplefilter(\"ignore\")\n",
    "\n",
    "import pandas as pd\n",
    "import numpy as np\n",
    "import sklearn\n",
    "import matplotlib.pyplot as plt\n",
    "import seaborn as sns\n",
    "\n",
    "#Preprocessing\n",
    "from sklearn.preprocessing import StandardScaler, OneHotEncoder\n",
    "from sklearn.pipeline import Pipeline\n",
    "from sklearn.compose import ColumnTransformer\n",
    "\n",
    "# Modelling\n",
    "from sklearn.linear_model import LogisticRegression\n",
    "\n",
    "#Evaluasi Model\n",
    "from sklearn import metrics\n",
    "from sklearn.metrics import classification_report\n",
    "from sklearn.model_selection import cross_val_score"
   ]
  },
  {
   "cell_type": "markdown",
   "metadata": {},
   "source": [
    "# Import Data"
   ]
  },
  {
   "cell_type": "code",
   "execution_count": 3,
   "metadata": {},
   "outputs": [
    {
     "data": {
      "text/html": [
       "<div>\n",
       "<style scoped>\n",
       "    .dataframe tbody tr th:only-of-type {\n",
       "        vertical-align: middle;\n",
       "    }\n",
       "\n",
       "    .dataframe tbody tr th {\n",
       "        vertical-align: top;\n",
       "    }\n",
       "\n",
       "    .dataframe thead th {\n",
       "        text-align: right;\n",
       "    }\n",
       "</style>\n",
       "<table border=\"1\" class=\"dataframe\">\n",
       "  <thead>\n",
       "    <tr style=\"text-align: right;\">\n",
       "      <th></th>\n",
       "      <th>C</th>\n",
       "      <th>A</th>\n",
       "      <th>S</th>\n",
       "      <th>G2</th>\n",
       "      <th>H</th>\n",
       "      <th>CNN2classes1stClass</th>\n",
       "    </tr>\n",
       "  </thead>\n",
       "  <tbody>\n",
       "    <tr>\n",
       "      <th>0</th>\n",
       "      <td>0.357051</td>\n",
       "      <td>0.932151</td>\n",
       "      <td>0.850992</td>\n",
       "      <td>1.588183</td>\n",
       "      <td>0.697214</td>\n",
       "      <td>1</td>\n",
       "    </tr>\n",
       "    <tr>\n",
       "      <th>1</th>\n",
       "      <td>0.313292</td>\n",
       "      <td>0.610999</td>\n",
       "      <td>0.723122</td>\n",
       "      <td>1.533653</td>\n",
       "      <td>0.719412</td>\n",
       "      <td>1</td>\n",
       "    </tr>\n",
       "    <tr>\n",
       "      <th>2</th>\n",
       "      <td>0.408286</td>\n",
       "      <td>0.881524</td>\n",
       "      <td>0.813231</td>\n",
       "      <td>1.743747</td>\n",
       "      <td>0.750872</td>\n",
       "      <td>1</td>\n",
       "    </tr>\n",
       "    <tr>\n",
       "      <th>3</th>\n",
       "      <td>-9999.999999</td>\n",
       "      <td>0.838779</td>\n",
       "      <td>0.816965</td>\n",
       "      <td>1.672529</td>\n",
       "      <td>0.771995</td>\n",
       "      <td>1</td>\n",
       "    </tr>\n",
       "    <tr>\n",
       "      <th>4</th>\n",
       "      <td>0.446453</td>\n",
       "      <td>0.839216</td>\n",
       "      <td>0.801140</td>\n",
       "      <td>1.107665</td>\n",
       "      <td>0.610453</td>\n",
       "      <td>1</td>\n",
       "    </tr>\n",
       "  </tbody>\n",
       "</table>\n",
       "</div>"
      ],
      "text/plain": [
       "             C         A         S        G2         H  CNN2classes1stClass\n",
       "0     0.357051  0.932151  0.850992  1.588183  0.697214                    1\n",
       "1     0.313292  0.610999  0.723122  1.533653  0.719412                    1\n",
       "2     0.408286  0.881524  0.813231  1.743747  0.750872                    1\n",
       "3 -9999.999999  0.838779  0.816965  1.672529  0.771995                    1\n",
       "4     0.446453  0.839216  0.801140  1.107665  0.610453                    1"
      ]
     },
     "execution_count": 3,
     "metadata": {},
     "output_type": "execute_result"
    }
   ],
   "source": [
    "filecsv = 'https://raw.githubusercontent.com/fahmimnalfrzki/Dataset/main/GalaxyMorphology.csv'\n",
    "df = pd.read_csv(filecsv,usecols=['C', 'A', 'S', 'G2', 'H', 'CNN2classes1stClass'])\n",
    "df.head()"
   ]
  },
  {
   "cell_type": "markdown",
   "metadata": {},
   "source": [
    "# EDA"
   ]
  },
  {
   "cell_type": "code",
   "execution_count": 4,
   "metadata": {},
   "outputs": [
    {
     "name": "stdout",
     "output_type": "stream",
     "text": [
      "<class 'pandas.core.frame.DataFrame'>\n",
      "RangeIndex: 20000 entries, 0 to 19999\n",
      "Data columns (total 6 columns):\n",
      " #   Column               Non-Null Count  Dtype  \n",
      "---  ------               --------------  -----  \n",
      " 0   C                    20000 non-null  float64\n",
      " 1   A                    20000 non-null  float64\n",
      " 2   S                    20000 non-null  float64\n",
      " 3   G2                   20000 non-null  float64\n",
      " 4   H                    20000 non-null  float64\n",
      " 5   CNN2classes1stClass  20000 non-null  int64  \n",
      "dtypes: float64(5), int64(1)\n",
      "memory usage: 937.6 KB\n"
     ]
    }
   ],
   "source": [
    "df.info()"
   ]
  },
  {
   "cell_type": "markdown",
   "metadata": {},
   "source": [
    "tidak ada missing value"
   ]
  },
  {
   "cell_type": "markdown",
   "metadata": {},
   "source": [
    "# Data Preprocessing"
   ]
  },
  {
   "cell_type": "code",
   "execution_count": 5,
   "metadata": {},
   "outputs": [
    {
     "data": {
      "text/html": [
       "<div>\n",
       "<style scoped>\n",
       "    .dataframe tbody tr th:only-of-type {\n",
       "        vertical-align: middle;\n",
       "    }\n",
       "\n",
       "    .dataframe tbody tr th {\n",
       "        vertical-align: top;\n",
       "    }\n",
       "\n",
       "    .dataframe thead th {\n",
       "        text-align: right;\n",
       "    }\n",
       "</style>\n",
       "<table border=\"1\" class=\"dataframe\">\n",
       "  <thead>\n",
       "    <tr style=\"text-align: right;\">\n",
       "      <th></th>\n",
       "      <th>C</th>\n",
       "      <th>A</th>\n",
       "      <th>S</th>\n",
       "      <th>G2</th>\n",
       "      <th>H</th>\n",
       "      <th>CNN2classes1stClass</th>\n",
       "    </tr>\n",
       "  </thead>\n",
       "  <tbody>\n",
       "    <tr>\n",
       "      <th>8537</th>\n",
       "      <td>0.272718</td>\n",
       "      <td>0.748046</td>\n",
       "      <td>0.868688</td>\n",
       "      <td>1.726417</td>\n",
       "      <td>0.799235</td>\n",
       "      <td>1</td>\n",
       "    </tr>\n",
       "    <tr>\n",
       "      <th>2077</th>\n",
       "      <td>0.234426</td>\n",
       "      <td>0.884878</td>\n",
       "      <td>0.915706</td>\n",
       "      <td>1.899250</td>\n",
       "      <td>0.821838</td>\n",
       "      <td>1</td>\n",
       "    </tr>\n",
       "    <tr>\n",
       "      <th>6433</th>\n",
       "      <td>0.271021</td>\n",
       "      <td>0.805195</td>\n",
       "      <td>0.924032</td>\n",
       "      <td>1.699239</td>\n",
       "      <td>0.829837</td>\n",
       "      <td>1</td>\n",
       "    </tr>\n",
       "    <tr>\n",
       "      <th>9274</th>\n",
       "      <td>0.430863</td>\n",
       "      <td>0.884174</td>\n",
       "      <td>0.871320</td>\n",
       "      <td>1.321015</td>\n",
       "      <td>0.648827</td>\n",
       "      <td>1</td>\n",
       "    </tr>\n",
       "    <tr>\n",
       "      <th>5940</th>\n",
       "      <td>0.365101</td>\n",
       "      <td>0.769021</td>\n",
       "      <td>0.758763</td>\n",
       "      <td>1.743213</td>\n",
       "      <td>0.786163</td>\n",
       "      <td>1</td>\n",
       "    </tr>\n",
       "  </tbody>\n",
       "</table>\n",
       "</div>"
      ],
      "text/plain": [
       "             C         A         S        G2         H  CNN2classes1stClass\n",
       "8537  0.272718  0.748046  0.868688  1.726417  0.799235                    1\n",
       "2077  0.234426  0.884878  0.915706  1.899250  0.821838                    1\n",
       "6433  0.271021  0.805195  0.924032  1.699239  0.829837                    1\n",
       "9274  0.430863  0.884174  0.871320  1.321015  0.648827                    1\n",
       "5940  0.365101  0.769021  0.758763  1.743213  0.786163                    1"
      ]
     },
     "execution_count": 5,
     "metadata": {},
     "output_type": "execute_result"
    }
   ],
   "source": [
    "#Mengambil sepuluh data dari dataset untuk dijadikan data inference\n",
    "inf = df.sample(5, random_state=33)\n",
    "inf"
   ]
  },
  {
   "cell_type": "code",
   "execution_count": 6,
   "metadata": {},
   "outputs": [
    {
     "data": {
      "text/html": [
       "<div>\n",
       "<style scoped>\n",
       "    .dataframe tbody tr th:only-of-type {\n",
       "        vertical-align: middle;\n",
       "    }\n",
       "\n",
       "    .dataframe tbody tr th {\n",
       "        vertical-align: top;\n",
       "    }\n",
       "\n",
       "    .dataframe thead th {\n",
       "        text-align: right;\n",
       "    }\n",
       "</style>\n",
       "<table border=\"1\" class=\"dataframe\">\n",
       "  <thead>\n",
       "    <tr style=\"text-align: right;\">\n",
       "      <th></th>\n",
       "      <th>C</th>\n",
       "      <th>A</th>\n",
       "      <th>S</th>\n",
       "      <th>G2</th>\n",
       "      <th>H</th>\n",
       "      <th>CNN2classes1stClass</th>\n",
       "    </tr>\n",
       "  </thead>\n",
       "  <tbody>\n",
       "    <tr>\n",
       "      <th>19995</th>\n",
       "      <td>0.358020</td>\n",
       "      <td>0.602471</td>\n",
       "      <td>0.832848</td>\n",
       "      <td>1.611594</td>\n",
       "      <td>0.735315</td>\n",
       "      <td>1</td>\n",
       "    </tr>\n",
       "    <tr>\n",
       "      <th>19996</th>\n",
       "      <td>0.470026</td>\n",
       "      <td>0.842624</td>\n",
       "      <td>0.868289</td>\n",
       "      <td>1.313089</td>\n",
       "      <td>0.649996</td>\n",
       "      <td>1</td>\n",
       "    </tr>\n",
       "    <tr>\n",
       "      <th>19997</th>\n",
       "      <td>0.323334</td>\n",
       "      <td>0.830340</td>\n",
       "      <td>0.950820</td>\n",
       "      <td>1.406042</td>\n",
       "      <td>0.671217</td>\n",
       "      <td>1</td>\n",
       "    </tr>\n",
       "    <tr>\n",
       "      <th>19998</th>\n",
       "      <td>0.393574</td>\n",
       "      <td>0.632766</td>\n",
       "      <td>0.825990</td>\n",
       "      <td>1.659363</td>\n",
       "      <td>0.379448</td>\n",
       "      <td>1</td>\n",
       "    </tr>\n",
       "    <tr>\n",
       "      <th>19999</th>\n",
       "      <td>0.346322</td>\n",
       "      <td>0.878231</td>\n",
       "      <td>0.882251</td>\n",
       "      <td>1.616493</td>\n",
       "      <td>0.738060</td>\n",
       "      <td>1</td>\n",
       "    </tr>\n",
       "  </tbody>\n",
       "</table>\n",
       "</div>"
      ],
      "text/plain": [
       "              C         A         S        G2         H  CNN2classes1stClass\n",
       "19995  0.358020  0.602471  0.832848  1.611594  0.735315                    1\n",
       "19996  0.470026  0.842624  0.868289  1.313089  0.649996                    1\n",
       "19997  0.323334  0.830340  0.950820  1.406042  0.671217                    1\n",
       "19998  0.393574  0.632766  0.825990  1.659363  0.379448                    1\n",
       "19999  0.346322  0.878231  0.882251  1.616493  0.738060                    1"
      ]
     },
     "execution_count": 6,
     "metadata": {},
     "output_type": "execute_result"
    }
   ],
   "source": [
    "# Menghapus data Inference dari dalam dataset\n",
    "df_train_test = df.drop(inf.index)\n",
    "df_train_test.tail()"
   ]
  },
  {
   "cell_type": "code",
   "execution_count": 7,
   "metadata": {},
   "outputs": [],
   "source": [
    "# Reset Index untuk Data_train_test dan data for inference\n",
    "df_train_test.reset_index(drop=True, inplace=True)\n",
    "inf.reset_index(drop=True, inplace=True)"
   ]
  },
  {
   "cell_type": "markdown",
   "metadata": {},
   "source": [
    "## Feature Selection"
   ]
  },
  {
   "cell_type": "code",
   "execution_count": 8,
   "metadata": {},
   "outputs": [
    {
     "data": {
      "text/plain": [
       "Text(0.5, 1.0, 'Heatmap Korelasi')"
      ]
     },
     "execution_count": 8,
     "metadata": {},
     "output_type": "execute_result"
    },
    {
     "data": {
      "image/png": "[encoded data removed]",
      "text/plain": [
       "<Figure size 720x576 with 2 Axes>"
      ]
     },
     "metadata": {
      "needs_background": "light"
     },
     "output_type": "display_data"
    }
   ],
   "source": [
    "plt.figure(figsize=(10,8)) #Ukuran Plot\n",
    "sns.heatmap(df_train_test.corr(), annot=True) #Menampilkan korelasi dari df_train_test, yang saya fokuskan korelasi terhadap fitur 'Price'\n",
    "plt.title('Heatmap Korelasi') #Title plot"
   ]
  },
  {
   "cell_type": "markdown",
   "metadata": {},
   "source": [
    "H Memiliki High Korelasi, karna fitur lain saya tidak tau sebagai apa makan walaupun korelasi kecil maka akan saya jadikan sebagai fitur, artinya tidak ada yang di drop"
   ]
  },
  {
   "cell_type": "markdown",
   "metadata": {},
   "source": [
    "## Train Test Split"
   ]
  },
  {
   "cell_type": "code",
   "execution_count": 9,
   "metadata": {},
   "outputs": [
    {
     "name": "stdout",
     "output_type": "stream",
     "text": [
      "(15996, 6)\n",
      "(3999, 6)\n"
     ]
    }
   ],
   "source": [
    "# Splitting Dataset menggunakan sklearn train_test_split\n",
    "# Membagi untuk data train 80% dan test 20%\n",
    "from sklearn.model_selection import train_test_split\n",
    "\n",
    "train, test = train_test_split(df_train_test, test_size=0.2, random_state=8)\n",
    "\n",
    "print(train.shape)\n",
    "print(test.shape)"
   ]
  },
  {
   "cell_type": "markdown",
   "metadata": {},
   "source": [
    "## Handling Outliers"
   ]
  },
  {
   "cell_type": "code",
   "execution_count": 10,
   "metadata": {},
   "outputs": [],
   "source": [
    "#function histplot dan boxplot untuk melihat distribusi data\n",
    "def identify_plots(df, variable):\n",
    "    plt.figure(figsize=(16, 4))\n",
    "\n",
    "    # Plot 1 Histogram\n",
    "    plt.subplot(1, 2, 1)\n",
    "    sns.histplot(df[variable], bins=30)\n",
    "    plt.title('Histogram')\n",
    "\n",
    "    # Plot 2 Boxplot\n",
    "    plt.subplot(1, 2, 2)\n",
    "    sns.boxplot(y=df[variable])\n",
    "    plt.title('Boxplot')\n",
    "\n",
    "    plt.show()"
   ]
  },
  {
   "cell_type": "code",
   "execution_count": 11,
   "metadata": {},
   "outputs": [
    {
     "data": {
      "image/png": "[encoded data removed]",
      "text/plain": [
       "<Figure size 1152x288 with 2 Axes>"
      ]
     },
     "metadata": {
      "needs_background": "light"
     },
     "output_type": "display_data"
    },
    {
     "name": "stdout",
     "output_type": "stream",
     "text": [
      "Nilai Skew :  -1.6372531707178837\n",
      "\n"
     ]
    },
    {
     "data": {
      "image/png": "[encoded data removed]",
      "text/plain": [
       "<Figure size 1152x288 with 2 Axes>"
      ]
     },
     "metadata": {
      "needs_background": "light"
     },
     "output_type": "display_data"
    },
    {
     "name": "stdout",
     "output_type": "stream",
     "text": [
      "Nilai Skew :  -126.47482654107661\n",
      "\n"
     ]
    },
    {
     "data": {
      "image/png": "[encoded data removed]",
      "text/plain": [
       "<Figure size 1152x288 with 2 Axes>"
      ]
     },
     "metadata": {
      "needs_background": "light"
     },
     "output_type": "display_data"
    },
    {
     "name": "stdout",
     "output_type": "stream",
     "text": [
      "Nilai Skew :  -44.686362019635894\n",
      "\n"
     ]
    },
    {
     "data": {
      "image/png": "[encoded data removed]",
      "text/plain": [
       "<Figure size 1152x288 with 2 Axes>"
      ]
     },
     "metadata": {
      "needs_background": "light"
     },
     "output_type": "display_data"
    },
    {
     "name": "stdout",
     "output_type": "stream",
     "text": [
      "Nilai Skew :  -126.46945642313811\n",
      "\n"
     ]
    },
    {
     "data": {
      "image/png": "[encoded data removed]",
      "text/plain": [
       "<Figure size 1152x288 with 2 Axes>"
      ]
     },
     "metadata": {
      "needs_background": "light"
     },
     "output_type": "display_data"
    },
    {
     "name": "stdout",
     "output_type": "stream",
     "text": [
      "Nilai Skew :  -0.6832318920409565\n",
      "\n"
     ]
    },
    {
     "data": {
      "image/png": "[encoded data removed]",
      "text/plain": [
       "<Figure size 1152x288 with 2 Axes>"
      ]
     },
     "metadata": {
      "needs_background": "light"
     },
     "output_type": "display_data"
    },
    {
     "name": "stdout",
     "output_type": "stream",
     "text": [
      "Nilai Skew :  -1.553518208764979\n",
      "\n"
     ]
    }
   ],
   "source": [
    "for var in train.select_dtypes(np.number): #Looping semua data dtrain Numerik\n",
    "    identify_plots(train, var)\n",
    "    print('Nilai Skew : ', train[var].skew()) #Nilai skewness dari tiap data numerik \n",
    "    print()"
   ]
  },
  {
   "cell_type": "markdown",
   "metadata": {},
   "source": [
    "- Semua Fitur Skewness (-)"
   ]
  },
  {
   "cell_type": "markdown",
   "metadata": {},
   "source": [
    "## Outliers Detection"
   ]
  },
  {
   "cell_type": "code",
   "execution_count": 12,
   "metadata": {},
   "outputs": [],
   "source": [
    "#Membuat function untuk menemukan batas atas dan batas bawah menggunakan IQR\n",
    "def find_skewed_boundaries(df, variable, distance):\n",
    "    IQR = df[variable].quantile(0.75) - df[variable].quantile(0.25) #IQR = Q3 - Q1\n",
    "\n",
    "    lower_boundary_skew = df[variable].quantile(0.25) - (IQR * distance) #batas bawah\n",
    "    upper_boundary_skew = df[variable].quantile(0.75) + (IQR * distance) #batas atas\n",
    "\n",
    "    return upper_boundary_skew, lower_boundary_skew"
   ]
  },
  {
   "cell_type": "markdown",
   "metadata": {},
   "source": [
    "Melihat Jumlah Outliers"
   ]
  },
  {
   "cell_type": "code",
   "execution_count": 13,
   "metadata": {},
   "outputs": [
    {
     "data": {
      "text/html": [
       "<div>\n",
       "<style scoped>\n",
       "    .dataframe tbody tr th:only-of-type {\n",
       "        vertical-align: middle;\n",
       "    }\n",
       "\n",
       "    .dataframe tbody tr th {\n",
       "        vertical-align: top;\n",
       "    }\n",
       "\n",
       "    .dataframe thead th {\n",
       "        text-align: right;\n",
       "    }\n",
       "</style>\n",
       "<table border=\"1\" class=\"dataframe\">\n",
       "  <thead>\n",
       "    <tr style=\"text-align: right;\">\n",
       "      <th></th>\n",
       "      <th>C</th>\n",
       "      <th>A</th>\n",
       "      <th>S</th>\n",
       "      <th>G2</th>\n",
       "      <th>H</th>\n",
       "      <th>CNN2classes1stClass</th>\n",
       "    </tr>\n",
       "  </thead>\n",
       "  <tbody>\n",
       "    <tr>\n",
       "      <th>0</th>\n",
       "      <td>0.357051</td>\n",
       "      <td>0.932151</td>\n",
       "      <td>0.850992</td>\n",
       "      <td>1.588183</td>\n",
       "      <td>0.697214</td>\n",
       "      <td>1</td>\n",
       "    </tr>\n",
       "    <tr>\n",
       "      <th>1</th>\n",
       "      <td>0.313292</td>\n",
       "      <td>0.610999</td>\n",
       "      <td>0.723122</td>\n",
       "      <td>1.533653</td>\n",
       "      <td>0.719412</td>\n",
       "      <td>1</td>\n",
       "    </tr>\n",
       "  </tbody>\n",
       "</table>\n",
       "</div>"
      ],
      "text/plain": [
       "          C         A         S        G2         H  CNN2classes1stClass\n",
       "0  0.357051  0.932151  0.850992  1.588183  0.697214                    1\n",
       "1  0.313292  0.610999  0.723122  1.533653  0.719412                    1"
      ]
     },
     "execution_count": 13,
     "metadata": {},
     "output_type": "execute_result"
    }
   ],
   "source": [
    "df.head(2)"
   ]
  },
  {
   "cell_type": "markdown",
   "metadata": {},
   "source": [
    "C"
   ]
  },
  {
   "cell_type": "code",
   "execution_count": 14,
   "metadata": {},
   "outputs": [
    {
     "data": {
      "text/plain": [
       "(0.6527344978972499, 0.0775380873772501)"
      ]
     },
     "execution_count": 14,
     "metadata": {},
     "output_type": "execute_result"
    }
   ],
   "source": [
    "# Melihat batas atas dan batas bawah variable C\n",
    "C_upper_boundary_skew, C_lower_boundary_skew = find_skewed_boundaries(train, 'C', 1.5)\n",
    "C_upper_boundary_skew, C_lower_boundary_skew"
   ]
  },
  {
   "cell_type": "code",
   "execution_count": 15,
   "metadata": {},
   "outputs": [
    {
     "name": "stdout",
     "output_type": "stream",
     "text": [
      "Jumlah data C dibawah 0.07   : 2932\n",
      "% Jumlah data C dibawah 0.07 : 18.3295823955989\n"
     ]
    }
   ],
   "source": [
    "# Melihat jumlah dan percent data outliers variable C\n",
    "print('Jumlah data C dibawah 0.07   : {}'.format(len(train[train['C'] < C_lower_boundary_skew])))\n",
    "print('% Jumlah data C dibawah 0.07 : {}'.format(len(train[train['C'] < C_lower_boundary_skew])/len(train) * 100))"
   ]
  },
  {
   "cell_type": "markdown",
   "metadata": {},
   "source": [
    "terdapat ouliers sebanyak 2932 atau 18%"
   ]
  },
  {
   "cell_type": "markdown",
   "metadata": {},
   "source": [
    "A"
   ]
  },
  {
   "cell_type": "code",
   "execution_count": 16,
   "metadata": {},
   "outputs": [
    {
     "data": {
      "text/plain": [
       "(1.089408352971625, 0.5980433970686252)"
      ]
     },
     "execution_count": 16,
     "metadata": {},
     "output_type": "execute_result"
    }
   ],
   "source": [
    "# Melihat batas atas dan batas bawah variable A\n",
    "A_upper_boundary_skew, A_lower_boundary_skew = find_skewed_boundaries(train, 'A', 1.5)\n",
    "A_upper_boundary_skew, A_lower_boundary_skew"
   ]
  },
  {
   "cell_type": "code",
   "execution_count": 17,
   "metadata": {},
   "outputs": [
    {
     "name": "stdout",
     "output_type": "stream",
     "text": [
      "Jumlah data A dibawah 0.07   : 914\n",
      "% Jumlah data A dibawah 0.07 : 5.71392848212053\n"
     ]
    }
   ],
   "source": [
    "# Melihat jumlah dan percent data outliers variable A\n",
    "print('Jumlah data A dibawah 0.07   : {}'.format(len(train[train['A'] < A_lower_boundary_skew])))\n",
    "print('% Jumlah data A dibawah 0.07 : {}'.format(len(train[train['A'] < A_lower_boundary_skew])/len(train) * 100))"
   ]
  },
  {
   "cell_type": "markdown",
   "metadata": {},
   "source": [
    "Terdapat ouliers sebanyak 914 atau 5%"
   ]
  },
  {
   "cell_type": "markdown",
   "metadata": {},
   "source": [
    "S"
   ]
  },
  {
   "cell_type": "code",
   "execution_count": 18,
   "metadata": {},
   "outputs": [
    {
     "data": {
      "text/plain": [
       "(1.08838487416475, 0.5577307417987499)"
      ]
     },
     "execution_count": 18,
     "metadata": {},
     "output_type": "execute_result"
    }
   ],
   "source": [
    "# Melihat batas atas dan batas bawah variable S\n",
    "S_upper_boundary_skew, S_lower_boundary_skew = find_skewed_boundaries(train, 'S', 1.5)\n",
    "S_upper_boundary_skew, S_lower_boundary_skew"
   ]
  },
  {
   "cell_type": "code",
   "execution_count": 19,
   "metadata": {},
   "outputs": [
    {
     "name": "stdout",
     "output_type": "stream",
     "text": [
      "Jumlah data S dibawah 0.5   : 1732\n",
      "% Jumlah data S dibawah 0.5 : 10.827706926731683\n"
     ]
    }
   ],
   "source": [
    "# Melihat jumlah dan percent data outliers variable S\n",
    "print('Jumlah data S dibawah 0.5   : {}'.format(len(train[train['S'] < S_lower_boundary_skew])))\n",
    "print('% Jumlah data S dibawah 0.5 : {}'.format(len(train[train['S'] < S_lower_boundary_skew])/len(train) * 100))"
   ]
  },
  {
   "cell_type": "markdown",
   "metadata": {},
   "source": [
    "Terdapat 1732 Data outliers atau 10%"
   ]
  },
  {
   "cell_type": "markdown",
   "metadata": {},
   "source": [
    "G2"
   ]
  },
  {
   "cell_type": "code",
   "execution_count": 20,
   "metadata": {},
   "outputs": [
    {
     "data": {
      "text/plain": [
       "(2.550853051242, 0.036711789669999995)"
      ]
     },
     "execution_count": 20,
     "metadata": {},
     "output_type": "execute_result"
    }
   ],
   "source": [
    "# Melihat batas atas dan batas bawah variable G2\n",
    "G2_upper_boundary_skew, G2_lower_boundary_skew = find_skewed_boundaries(train, 'G2', 1.5)\n",
    "G2_upper_boundary_skew, G2_lower_boundary_skew"
   ]
  },
  {
   "cell_type": "code",
   "execution_count": 21,
   "metadata": {},
   "outputs": [
    {
     "name": "stdout",
     "output_type": "stream",
     "text": [
      "Jumlah data G2 dibawah 0.03   : 4\n",
      "% Jumlah data G2 dibawah 0.03 : 0.025006251562890724\n"
     ]
    }
   ],
   "source": [
    "# Melihat jumlah dan percent data outliers variable G2\n",
    "print('Jumlah data G2 dibawah 0.03   : {}'.format(len(train[train['G2'] < G2_lower_boundary_skew])))\n",
    "print('% Jumlah data G2 dibawah 0.03 : {}'.format(len(train[train['G2'] < G2_lower_boundary_skew])/len(train) * 100))"
   ]
  },
  {
   "cell_type": "markdown",
   "metadata": {},
   "source": [
    "Terdapat 4 data Outliers atau 0.02%"
   ]
  },
  {
   "cell_type": "markdown",
   "metadata": {},
   "source": [
    "H"
   ]
  },
  {
   "cell_type": "code",
   "execution_count": 22,
   "metadata": {},
   "outputs": [
    {
     "data": {
      "text/plain": [
       "(0.979190461338125, 0.349478654563125)"
      ]
     },
     "execution_count": 22,
     "metadata": {},
     "output_type": "execute_result"
    }
   ],
   "source": [
    "# Melihat batas atas dan batas bawah variable H\n",
    "H_upper_boundary_skew, H_lower_boundary_skew = find_skewed_boundaries(train, 'H', 1.5)\n",
    "H_upper_boundary_skew, H_lower_boundary_skew"
   ]
  },
  {
   "cell_type": "code",
   "execution_count": 23,
   "metadata": {},
   "outputs": [
    {
     "name": "stdout",
     "output_type": "stream",
     "text": [
      "Jumlah data H dibawah 0.03   : 163\n",
      "% Jumlah data H dibawah 0.03 : 1.0190047511877969\n"
     ]
    }
   ],
   "source": [
    "# Melihat jumlah dan percent data outliers variable H\n",
    "print('Jumlah data H dibawah 0.03   : {}'.format(len(train[train['H'] < H_lower_boundary_skew])))\n",
    "print('% Jumlah data H dibawah 0.03 : {}'.format(len(train[train['H'] < H_lower_boundary_skew])/len(train) * 100))"
   ]
  },
  {
   "cell_type": "markdown",
   "metadata": {},
   "source": [
    "Terdapat163 data atau 1% Outliers"
   ]
  },
  {
   "cell_type": "markdown",
   "metadata": {},
   "source": [
    "## Trimming"
   ]
  },
  {
   "cell_type": "markdown",
   "metadata": {},
   "source": [
    "Seharusnya ada yang dilakukan capping dan Trimming, karna masalah waktu pengerjaan maka akan dilakukan trimming semua"
   ]
  },
  {
   "cell_type": "code",
   "execution_count": 24,
   "metadata": {},
   "outputs": [
    {
     "data": {
      "text/html": [
       "<div>\n",
       "<style scoped>\n",
       "    .dataframe tbody tr th:only-of-type {\n",
       "        vertical-align: middle;\n",
       "    }\n",
       "\n",
       "    .dataframe tbody tr th {\n",
       "        vertical-align: top;\n",
       "    }\n",
       "\n",
       "    .dataframe thead th {\n",
       "        text-align: right;\n",
       "    }\n",
       "</style>\n",
       "<table border=\"1\" class=\"dataframe\">\n",
       "  <thead>\n",
       "    <tr style=\"text-align: right;\">\n",
       "      <th></th>\n",
       "      <th>C</th>\n",
       "      <th>A</th>\n",
       "      <th>S</th>\n",
       "      <th>G2</th>\n",
       "      <th>H</th>\n",
       "      <th>CNN2classes1stClass</th>\n",
       "    </tr>\n",
       "  </thead>\n",
       "  <tbody>\n",
       "    <tr>\n",
       "      <th>0</th>\n",
       "      <td>0.357051</td>\n",
       "      <td>0.932151</td>\n",
       "      <td>0.850992</td>\n",
       "      <td>1.588183</td>\n",
       "      <td>0.697214</td>\n",
       "      <td>1</td>\n",
       "    </tr>\n",
       "    <tr>\n",
       "      <th>1</th>\n",
       "      <td>0.313292</td>\n",
       "      <td>0.610999</td>\n",
       "      <td>0.723122</td>\n",
       "      <td>1.533653</td>\n",
       "      <td>0.719412</td>\n",
       "      <td>1</td>\n",
       "    </tr>\n",
       "    <tr>\n",
       "      <th>2</th>\n",
       "      <td>0.408286</td>\n",
       "      <td>0.881524</td>\n",
       "      <td>0.813231</td>\n",
       "      <td>1.743747</td>\n",
       "      <td>0.750872</td>\n",
       "      <td>1</td>\n",
       "    </tr>\n",
       "  </tbody>\n",
       "</table>\n",
       "</div>"
      ],
      "text/plain": [
       "          C         A         S        G2         H  CNN2classes1stClass\n",
       "0  0.357051  0.932151  0.850992  1.588183  0.697214                    1\n",
       "1  0.313292  0.610999  0.723122  1.533653  0.719412                    1\n",
       "2  0.408286  0.881524  0.813231  1.743747  0.750872                    1"
      ]
     },
     "execution_count": 24,
     "metadata": {},
     "output_type": "execute_result"
    }
   ],
   "source": [
    "df.head(3)"
   ]
  },
  {
   "cell_type": "code",
   "execution_count": 25,
   "metadata": {},
   "outputs": [],
   "source": [
    "#Normal\n",
    "# Menandai Outliers di variable 'A'\n",
    "outliers_A = np.where(train['A'] > A_upper_boundary_skew, True,\n",
    "                       np.where(train['A'] < A_lower_boundary_skew, True, False))\n",
    "\n",
    "\n",
    "#Normal\n",
    "# Menandai Outliers di variable 'C'\n",
    "outliers_C = np.where(train['C'] > C_upper_boundary_skew, True,\n",
    "                       np.where(train['C'] < C_lower_boundary_skew, True, False))\n",
    "\n",
    "\n",
    "#Normal\n",
    "# Menandai Outliers di variable 'S'\n",
    "outliers_S = np.where(train['S'] > S_upper_boundary_skew, True,\n",
    "                       np.where(train['S'] < S_lower_boundary_skew, True, False))\n",
    "\n",
    "#Skew\n",
    "# Menandai Outliers di variable 'G2'\n",
    "outliers_G2 = np.where(train['G2'] > G2_upper_boundary_skew, True,\n",
    "                       np.where(train['G2'] < G2_lower_boundary_skew, True, False))\n",
    "\n",
    "#Skew\n",
    "# Menandai Outliers di variable 'H'\n",
    "outliers_H = np.where(train['H'] > H_upper_boundary_skew, True,\n",
    "                       np.where(train['H'] < H_lower_boundary_skew, True, False))"
   ]
  },
  {
   "cell_type": "code",
   "execution_count": 26,
   "metadata": {},
   "outputs": [
    {
     "name": "stdout",
     "output_type": "stream",
     "text": [
      "Data Train - Before trimming :  (15996, 6)\n",
      "Data Train - After trimming  :  (10836, 6)\n"
     ]
    }
   ],
   "source": [
    "#Menghapus Outliers\n",
    "train_trimmed = train.loc[~(outliers_A + outliers_C + outliers_S + outliers_G2 + outliers_H)] \n",
    "\n",
    "#Melihat Jumlah Data sebelum dan sesudah dilakukan Trimming\n",
    "print('Data Train - Before trimming : ', train.shape) \n",
    "print('Data Train - After trimming  : ', train_trimmed.shape)"
   ]
  },
  {
   "cell_type": "markdown",
   "metadata": {},
   "source": [
    "## Pipeline for Scalling"
   ]
  },
  {
   "cell_type": "code",
   "execution_count": 27,
   "metadata": {},
   "outputs": [
    {
     "data": {
      "text/html": [
       "<div>\n",
       "<style scoped>\n",
       "    .dataframe tbody tr th:only-of-type {\n",
       "        vertical-align: middle;\n",
       "    }\n",
       "\n",
       "    .dataframe tbody tr th {\n",
       "        vertical-align: top;\n",
       "    }\n",
       "\n",
       "    .dataframe thead th {\n",
       "        text-align: right;\n",
       "    }\n",
       "</style>\n",
       "<table border=\"1\" class=\"dataframe\">\n",
       "  <thead>\n",
       "    <tr style=\"text-align: right;\">\n",
       "      <th></th>\n",
       "      <th>C</th>\n",
       "      <th>A</th>\n",
       "      <th>S</th>\n",
       "      <th>G2</th>\n",
       "      <th>H</th>\n",
       "      <th>CNN2classes1stClass</th>\n",
       "    </tr>\n",
       "  </thead>\n",
       "  <tbody>\n",
       "    <tr>\n",
       "      <th>0</th>\n",
       "      <td>0.357051</td>\n",
       "      <td>0.932151</td>\n",
       "      <td>0.850992</td>\n",
       "      <td>1.588183</td>\n",
       "      <td>0.697214</td>\n",
       "      <td>1</td>\n",
       "    </tr>\n",
       "    <tr>\n",
       "      <th>1</th>\n",
       "      <td>0.313292</td>\n",
       "      <td>0.610999</td>\n",
       "      <td>0.723122</td>\n",
       "      <td>1.533653</td>\n",
       "      <td>0.719412</td>\n",
       "      <td>1</td>\n",
       "    </tr>\n",
       "  </tbody>\n",
       "</table>\n",
       "</div>"
      ],
      "text/plain": [
       "          C         A         S        G2         H  CNN2classes1stClass\n",
       "0  0.357051  0.932151  0.850992  1.588183  0.697214                    1\n",
       "1  0.313292  0.610999  0.723122  1.533653  0.719412                    1"
      ]
     },
     "execution_count": 27,
     "metadata": {},
     "output_type": "execute_result"
    }
   ],
   "source": [
    "df.head(2)"
   ]
  },
  {
   "cell_type": "code",
   "execution_count": 28,
   "metadata": {},
   "outputs": [],
   "source": [
    "# Mendefinikan Target\n",
    "\n",
    "# untuk Train data\n",
    "X_train = train.drop(columns=['CNN2classes1stClass']) #Fitur\n",
    "y_train = train['CNN2classes1stClass'] #Target\n",
    "\n",
    "# untuk Test data\n",
    "X_test = test.drop(columns=['CNN2classes1stClass']) #Fitur\n",
    "y_test = test['CNN2classes1stClass'] #Target"
   ]
  },
  {
   "cell_type": "code",
   "execution_count": 29,
   "metadata": {},
   "outputs": [],
   "source": [
    "num_col = X_train.select_dtypes(include=np.number).columns.tolist() "
   ]
  },
  {
   "cell_type": "code",
   "execution_count": 30,
   "metadata": {},
   "outputs": [],
   "source": [
    "# Pipeline untuk tipe data Numeric lalu dilakukan scalling\n",
    "numeric_prep = Pipeline(\n",
    "    steps=[('scaler', StandardScaler())]\n",
    ")"
   ]
  },
  {
   "cell_type": "code",
   "execution_count": 31,
   "metadata": {},
   "outputs": [],
   "source": [
    "#Membuat Pipline Preprocessing gabungan antara pipeline numerical dan categorical\n",
    "preprocessor = ColumnTransformer(\n",
    "    transformers=[\n",
    "        ('num', numeric_prep, num_col )\n",
    "    ]\n",
    ")"
   ]
  },
  {
   "cell_type": "markdown",
   "metadata": {},
   "source": [
    "# Modelling"
   ]
  },
  {
   "cell_type": "code",
   "execution_count": 32,
   "metadata": {},
   "outputs": [],
   "source": [
    "#Membuat Model Logistic Regression\n",
    "# Model Linear Regression dan pipeline preprocessing dimasukan kedalam satu Pipeline model\n",
    "pipe_logreg = Pipeline([\n",
    "    ('prep', preprocessor),\n",
    "    ('alg', LogisticRegression())\n",
    "])"
   ]
  },
  {
   "cell_type": "code",
   "execution_count": 33,
   "metadata": {},
   "outputs": [
    {
     "data": {
      "text/plain": [
       "Pipeline(steps=[('prep',\n",
       "                 ColumnTransformer(transformers=[('num',\n",
       "                                                  Pipeline(steps=[('scaler',\n",
       "                                                                   StandardScaler())]),\n",
       "                                                  ['C', 'A', 'S', 'G2',\n",
       "                                                   'H'])])),\n",
       "                ('alg', LogisticRegression())])"
      ]
     },
     "execution_count": 33,
     "metadata": {},
     "output_type": "execute_result"
    }
   ],
   "source": [
    "# Training Model\n",
    "pipe_logreg.fit(X_train, y_train)"
   ]
  },
  {
   "cell_type": "markdown",
   "metadata": {},
   "source": [
    "## Evaluation Score"
   ]
  },
  {
   "cell_type": "code",
   "execution_count": 34,
   "metadata": {},
   "outputs": [
    {
     "data": {
      "text/plain": [
       "array([1, 1, 0, ..., 1, 1, 1], dtype=int64)"
      ]
     },
     "execution_count": 34,
     "metadata": {},
     "output_type": "execute_result"
    }
   ],
   "source": [
    "y_pred_test = pipe_logreg.predict(X_test)\n",
    "\n",
    "y_pred_test"
   ]
  },
  {
   "cell_type": "code",
   "execution_count": 39,
   "metadata": {},
   "outputs": [
    {
     "data": {
      "text/plain": [
       "array([1, 1, 1, ..., 1, 1, 1], dtype=int64)"
      ]
     },
     "execution_count": 39,
     "metadata": {},
     "output_type": "execute_result"
    }
   ],
   "source": [
    "y_pred_train = pipe_logreg.predict(X_train)\n",
    "\n",
    "y_pred_train"
   ]
  },
  {
   "cell_type": "code",
   "execution_count": 35,
   "metadata": {},
   "outputs": [],
   "source": [
    "from sklearn.metrics import classification_report"
   ]
  },
  {
   "cell_type": "code",
   "execution_count": 38,
   "metadata": {},
   "outputs": [
    {
     "name": "stdout",
     "output_type": "stream",
     "text": [
      "              precision    recall  f1-score   support\n",
      "\n",
      "           0       0.42      0.04      0.07       764\n",
      "           1       0.81      0.99      0.89      3235\n",
      "\n",
      "    accuracy                           0.81      3999\n",
      "   macro avg       0.62      0.51      0.48      3999\n",
      "weighted avg       0.74      0.81      0.73      3999\n",
      "\n"
     ]
    }
   ],
   "source": [
    "print(classification_report(y_test, y_pred_test))"
   ]
  },
  {
   "cell_type": "code",
   "execution_count": 40,
   "metadata": {},
   "outputs": [
    {
     "name": "stdout",
     "output_type": "stream",
     "text": [
      "              precision    recall  f1-score   support\n",
      "\n",
      "           0       0.26      0.02      0.04      3092\n",
      "           1       0.81      0.99      0.89     12904\n",
      "\n",
      "    accuracy                           0.80     15996\n",
      "   macro avg       0.53      0.50      0.46     15996\n",
      "weighted avg       0.70      0.80      0.72     15996\n",
      "\n"
     ]
    }
   ],
   "source": [
    "print(classification_report(y_train, y_pred_train))"
   ]
  },
  {
   "cell_type": "markdown",
   "metadata": {},
   "source": [
    "Model Goodfit, accuracy  0.8 cukup bagus"
   ]
  },
  {
   "cell_type": "markdown",
   "metadata": {},
   "source": [
    "# Model Inference"
   ]
  },
  {
   "cell_type": "code",
   "execution_count": 41,
   "metadata": {},
   "outputs": [
    {
     "data": {
      "text/html": [
       "<div>\n",
       "<style scoped>\n",
       "    .dataframe tbody tr th:only-of-type {\n",
       "        vertical-align: middle;\n",
       "    }\n",
       "\n",
       "    .dataframe tbody tr th {\n",
       "        vertical-align: top;\n",
       "    }\n",
       "\n",
       "    .dataframe thead th {\n",
       "        text-align: right;\n",
       "    }\n",
       "</style>\n",
       "<table border=\"1\" class=\"dataframe\">\n",
       "  <thead>\n",
       "    <tr style=\"text-align: right;\">\n",
       "      <th></th>\n",
       "      <th>Prediction</th>\n",
       "    </tr>\n",
       "  </thead>\n",
       "  <tbody>\n",
       "    <tr>\n",
       "      <th>0</th>\n",
       "      <td>1</td>\n",
       "    </tr>\n",
       "    <tr>\n",
       "      <th>1</th>\n",
       "      <td>1</td>\n",
       "    </tr>\n",
       "    <tr>\n",
       "      <th>2</th>\n",
       "      <td>1</td>\n",
       "    </tr>\n",
       "    <tr>\n",
       "      <th>3</th>\n",
       "      <td>1</td>\n",
       "    </tr>\n",
       "    <tr>\n",
       "      <th>4</th>\n",
       "      <td>1</td>\n",
       "    </tr>\n",
       "  </tbody>\n",
       "</table>\n",
       "</div>"
      ],
      "text/plain": [
       "   Prediction\n",
       "0           1\n",
       "1           1\n",
       "2           1\n",
       "3           1\n",
       "4           1"
      ]
     },
     "execution_count": 41,
     "metadata": {},
     "output_type": "execute_result"
    }
   ],
   "source": [
    "y_pred_inf = pipe_logreg.predict(inf)\n",
    "y_pred_inf = pd.DataFrame(y_pred_inf, columns=['Prediction'])\n",
    "y_pred_inf"
   ]
  },
  {
   "cell_type": "markdown",
   "metadata": {},
   "source": [
    "# Kesimpulan"
   ]
  },
  {
   "cell_type": "markdown",
   "metadata": {},
   "source": [
    "Model memiliki accuracy 0.8 cukup bagus tapi harus dilakukan Model Improvement agar memiliki accuracy lebih baik lagi."
   ]
  }
 ],
 "metadata": {
  "interpreter": {
   "hash": "247ab06e135bb35fa78c5eff31b2a9a0050dcb5fb773c2631d2a29ac689eeccb"
  },
  "kernelspec": {
   "display_name": "Python 3.9.9 64-bit",
   "language": "python",
   "name": "python3"
  },
  "language_info": {
   "codemirror_mode": {
    "name": "ipython",
    "version": 3
   },
   "file_extension": ".py",
   "mimetype": "text/x-python",
   "name": "python",
   "nbconvert_exporter": "python",
   "pygments_lexer": "ipython3",
   "version": "3.9.9"
  },
  "orig_nbformat": 4
 },
 "nbformat": 4,
 "nbformat_minor": 2
}
